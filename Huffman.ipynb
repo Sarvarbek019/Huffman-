{
 "cells": [
  {
   "cell_type": "code",
   "execution_count": 55,
   "metadata": {},
   "outputs": [],
   "source": [
    "def create_prob_model(data):\n",
    "    prob = defaultdict(int) # Every new key is given a default value of 0\n",
    "    for char in data:\n",
    "        prob[char] += 1 / len(data)  \n",
    "    return prob"
   ]
  },
  {
   "cell_type": "code",
   "execution_count": 32,
   "metadata": {},
   "outputs": [],
   "source": [
    "from heapq import heappush, heappop, heapify\n",
    "from collections import defaultdict"
   ]
  },
  {
   "cell_type": "code",
   "execution_count": 56,
   "metadata": {},
   "outputs": [],
   "source": [
    "def huff_encode(data):\n",
    "    \n",
    "    prob = create_prob_model(data)\n",
    "    \n",
    "    hp = [[freq, [sym, \"\"]] for sym, freq in prob.items()]\n",
    "    heapify(hp)\n",
    "    while len(hp) > 1:\n",
    "        qu = heappop(hp)\n",
    "        hi = heappop(hp)\n",
    "        for pair in qu[1:]:\n",
    "            pair[1] = '0' + pair[1]\n",
    "        for pair in hi[1:]:\n",
    "            pair[1] = '1' + pair[1]\n",
    "        heappush(hp, [qu[0] + hi[0]] + qu[1:] + hi[1:])\n",
    "    symbol_code_pairs = sorted(heappop(hp)[1:], key=lambda p: (len(p[-1]), p))\n",
    "    \n",
    "    source_code = {}\n",
    "    for pair in symbol_code_pairs:\n",
    "        symbol = pair[0]\n",
    "        codeword = pair[1]\n",
    "        freq = prob[symbol]\n",
    "        source_code[symbol] = (freq, codeword)\n",
    "    \n",
    "    encoded = ''\n",
    "    for symbol in data:\n",
    "        encoded += source_code[symbol][1]\n",
    "    \n",
    "    return source_code, encoded"
   ]
  },
  {
   "cell_type": "markdown",
   "metadata": {},
   "source": [
    "## Task 1"
   ]
  },
  {
   "cell_type": "code",
   "execution_count": 57,
   "metadata": {},
   "outputs": [
    {
     "name": "stdout",
     "output_type": "stream",
     "text": [
      "Filename: Words.txt\n"
     ]
    }
   ],
   "source": [
    "filename=input(\"Filename: \")\n",
    "with open (filename) as myfile:\n",
    "    data=myfile.read()"
   ]
  },
  {
   "cell_type": "markdown",
   "metadata": {},
   "source": [
    "## Task 3"
   ]
  },
  {
   "cell_type": "code",
   "execution_count": 58,
   "metadata": {},
   "outputs": [
    {
     "name": "stdout",
     "output_type": "stream",
     "text": [
      "TXT file:Real Madrid moved top of La Liga with victory over Barcelona in an El Clasico played in torrential rain at the Alfredo Di Stefano Stadium.\n",
      "Karim Benzema broke the deadlock with a sublime near-post flick - his ninth goal in his past seven La Liga games.\n",
      "Real doubled their lead before half-time through Toni Kroos' deflected free-kick.\n",
      "Oscar Mingueza pulled one back for Barca before Madrid's Casemiro was shown a late red card.\n",
      "Barca midfielder Ilaix Moriba's well-struck shot came back off the crossbar in stoppage time as the hosts held on.The result takes Real above city rivals Atletico Madrid because of their superior head-to-head record.\n",
      "Atletico, who led La Liga by 10 points as recently as 31 January, can reclaim top spot with victory at Real Betis on Sunday.\n",
      "Encoded txt: 111001010001111111011100011111111110110010001111011011010010101101010111000101101100101011010001011001101011111101000111111111010001110111111001111111101110000011101011000011010101110111100110101011001000011001100110101011100001001100011110111101001001100011101011010100111111001111010011011111010011011100011011110111011100010111101111100100111100110110110100010111011111001100000101101100111101001100101011001000100000101000101011111111110111001001111011110100110111101011100101100000001101000110111101101111010000010110011011011100011000111110101110000101000101111111110100011011010111000010111111011001111010101001011010110001101111100100011110100011110010111000111100001010000110101000100101111111010010001000110001110000110010110000000110101100001111101101110101101001100111011011100000111010110000110111111000101010101001001110101111001010001101010000011110100101110110001001100010010111010111111101011110011001110110101110111010000011100101101010001111010001011000011011100110110111111101110011110100110100000111001011010001011110010010111000100001010111000101001101000111111111010001110111111001111111101110011111110010100000101010110001101111100101000111111101110101100110101010100100111010001011011001011000000001110100110111010001111101101101001000001011110110010000011010000111111101101111101110101010111100101000110010110000010001101010101110011100001100011010001101010001111101110010000100011001100010100011001101011000010111111101000100110101000101101101011110100000000101110100111001111001100111010101100011011111001001000101001111110100110001111101111010011100111010100000011010111111101000101010101110111101000101101100110101000001101001001111100110011101101011110110010011000111101111010010011111111010010000010111101100100000110001111111111011001000111101101000110000101101110001011111001000010010101110100011011011100001111001011000101000001101110000101001101111110111011111010100011001000001011011010011111101001011010101100011011001111011110100100111111110100101011110110101111011100011101101100000100110111000111011101111101111110010011110001111101100100011110010011111000110000101101110000000111011110110111010010010101001010101001100111011000101000001100101110100111111100101000110100100111110011001110110011010111110111111001011000000011010011010001100010001010010011110100110011110100110001001010110100010100010111111100110001100101011110010100011011110010110010110000000110100000110001001010010110100000001110110110110011010100101011000110100100000001100100000001010101011101010111001011111001110000001011011100101000111111101110111110010001101010111000110100110111010100110011001000111101011111111110100101101000110101011110100001010111100110110110001111111111011001000111101101101001000001001111111010100010000110011010111111001011000000001110100110001010101010001000001000111011001001101000000011111011010111010101011010111011000000011111011011001000001001101100100101101010110001101110001101010111101000010101111001101101011100101101110000100000110110111010001011011010001111111110100011101111110011111111010010000110011011100010010111001101101000100110011110100010100101101111001011001000001001100010100010111101001100110111100101101011100111111000100110111000111111111010010101011110100001100101110010110100111111101001100100000100111110111110111100101110010101101000101100010100010011001011101110000011101011000011010101110111100110101011001000011001101111010111011100101000111111101110001111000001010111001011001101010011010111000101010101001011011110011001010110\n",
      "\n"
     ]
    }
   ],
   "source": [
    "source_code, encoded = huff_encode(data)\n",
    "\n",
    "print(\"TXT file:{}\".format(data))\n",
    "\n",
    "print(\"Encoded txt: {}\\n\".format(encoded))"
   ]
  },
  {
   "cell_type": "markdown",
   "metadata": {},
   "source": [
    "## Task 3"
   ]
  },
  {
   "cell_type": "code",
   "execution_count": 46,
   "metadata": {},
   "outputs": [
    {
     "name": "stdout",
     "output_type": "stream",
     "text": [
      "Symbol Frequency Codeword\n",
      "     \n",
      "      0.01  0011011\n",
      "            0.16      110\n",
      "     '      0.00 10001100\n",
      "     ,      0.00 101110010\n",
      "     -      0.01  1011101\n",
      "     .      0.01  1010110\n",
      "     0      0.00 1011100110\n",
      "     1      0.00 111000100\n",
      "     3      0.00 1011100111\n",
      "     A      0.00 10001101\n",
      "     B      0.01  0011110\n",
      "     C      0.00 111000101\n",
      "     D      0.00 1110001100\n",
      "     E      0.00 1110001101\n",
      "     I      0.00 1110001110\n",
      "     J      0.00 1110001111\n",
      "     K      0.00 111001000\n",
      "     L      0.01  1000111\n",
      "     M      0.01  0011111\n",
      "     O      0.00 1110010010\n",
      "     R      0.01 11100101\n",
      "     S      0.00 10111000\n",
      "     T      0.00 00110100\n",
      "     a      0.09     1111\n",
      "     b      0.02   100100\n",
      "     c      0.03    10011\n",
      "     d      0.04    10110\n",
      "     e      0.09      000\n",
      "     f      0.02   101111\n",
      "     g      0.01  1110011\n",
      "     h      0.03    10000\n",
      "     i      0.06     0111\n",
      "     k      0.01   001110\n",
      "     l      0.04    11101\n",
      "     m      0.02   100101\n",
      "     n      0.03    10100\n",
      "     o      0.06     0110\n",
      "     p      0.01   100010\n",
      "     r      0.05     0100\n",
      "     s      0.04     0010\n",
      "     t      0.06     0101\n",
      "     u      0.02   101010\n",
      "     v      0.01  1010111\n",
      "     w      0.01  1110000\n",
      "     x      0.00 1110010011\n",
      "     y      0.01   001100\n",
      "     z      0.00 00110101\n"
     ]
    }
   ],
   "source": [
    "print(\"Symbol Frequency Codeword\")\n",
    "for symbol, pair in sorted(source_code.items()):\n",
    "    print(\"{0:>6} {1:>9,.2f} {2:>8}\".format(symbol, pair[0], pair[1]))"
   ]
  },
  {
   "cell_type": "code",
   "execution_count": 79,
   "metadata": {},
   "outputs": [
    {
     "name": "stdout",
     "output_type": "stream",
     "text": [
      "Number of bits in the original text: 769\n",
      "Compression ratio = 0.031209362808842653\n"
     ]
    }
   ],
   "source": [
    "import lzma\n",
    "def lzma_compression_ratio(test_string):\n",
    "    c = lzma.LZMACompressor()\n",
    "    bytes_in = bytes(test_string,'utf-8')\n",
    "    bytes_out = c.compress(bytes_in)\n",
    "    return len(bytes_out)/len(bytes_in)\n",
    "compression_ratio = lzma_compression_ratio(data)\n",
    "bytes_in = bytes(data,'utf-8')\n",
    "bytes_com=bytes(encoded,'utf-8')\n",
    "print('Number of bits in the original text:',len(bytes_in))\n",
    "print('Compression ratio =',compression_ratio)"
   ]
  },
  {
   "cell_type": "code",
   "execution_count": null,
   "metadata": {},
   "outputs": [],
   "source": []
  }
 ],
 "metadata": {
  "kernelspec": {
   "display_name": "Python 3",
   "language": "python",
   "name": "python3"
  },
  "language_info": {
   "codemirror_mode": {
    "name": "ipython",
    "version": 3
   },
   "file_extension": ".py",
   "mimetype": "text/x-python",
   "name": "python",
   "nbconvert_exporter": "python",
   "pygments_lexer": "ipython3",
   "version": "3.8.3"
  }
 },
 "nbformat": 4,
 "nbformat_minor": 4
}
